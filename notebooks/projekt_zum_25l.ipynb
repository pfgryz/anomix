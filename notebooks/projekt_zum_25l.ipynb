{
 "cells": [
  {
   "cell_type": "markdown",
   "metadata": {
    "id": "6kgUT7mpQJXy"
   },
   "source": [
    "# Projekt ZUM 25L - Temat 16\n",
    "Prowadzący projektu - Paweł Cichosz\n",
    "\n",
    "Autorzy:\n",
    "- Igor Matynia\n",
    "- Filip Gryz\n",
    "\n",
    "# Temat projektu\n",
    "Nienadzorowana detekcja anomalii na podstawie niepodobieństwa do grup wyznaczanych za\n",
    "pomocą algorytmów grupowania. Implementacja w formie opakowania umożliwiającego użycie\n",
    "różnych algorytmów grupowania dostępnych w środowisku R lub Python i różnych miar niepodobieństwa. Porównanie z nienadzorowaną detekcją anomalii za pomocą algorytmów klasyfikacji jednoklasowej dostępnych w środowisku R lub Python.\n",
    "\n",
    "# Interpretacja tematu\n",
    "...\n",
    "\n",
    "# Założenia projektowe\n",
    "...\n",
    "\n",
    "## Zmiany względem założeń wstepnych\n",
    "...\n",
    "\n"
   ]
  },
  {
   "cell_type": "markdown",
   "metadata": {
    "id": "zHlVMdWhQr8c"
   },
   "source": [
    "# Instalacja wymaganych pakietów"
   ]
  },
  {
   "cell_type": "code",
   "execution_count": null,
   "metadata": {
    "id": "kpptE0EBPnZ6"
   },
   "outputs": [
    {
     "ename": "",
     "evalue": "",
     "output_type": "error",
     "traceback": [
      "\u001b[1;31mRunning cells with '.venv (Python 3.9.21)' requires the ipykernel package.\n",
      "\u001b[1;31mRun the following command to install 'ipykernel' into the Python environment. \n",
      "\u001b[1;31mCommand: '/mnt/c/Users/Komputer/source/pw/25l/zum/zum-project/.venv/bin/python -m pip install ipykernel -U --force-reinstall'"
     ]
    }
   ],
   "source": [
    "!pip install -q scikit-learn matplotlib numpy pandas"
   ]
  },
  {
   "cell_type": "markdown",
   "metadata": {
    "id": "W10ocvjfRBGj"
   },
   "source": [
    "# Implementacja autorskiego framework'u do detekcji anomalii\n",
    "Opis implementacji"
   ]
  },
  {
   "cell_type": "code",
   "execution_count": null,
   "metadata": {
    "id": "OKJ31S_8RHhx"
   },
   "outputs": [],
   "source": []
  },
  {
   "cell_type": "markdown",
   "metadata": {
    "id": "gILN87tHRPyF"
   },
   "source": [
    "## Eksperymenty\n",
    "..."
   ]
  },
  {
   "cell_type": "code",
   "execution_count": null,
   "metadata": {
    "id": "hSbNL2xGR2jg"
   },
   "outputs": [],
   "source": []
  },
  {
   "cell_type": "markdown",
   "metadata": {
    "id": "vKXquVUnRTRD"
   },
   "source": [
    "## Wyniki i wnioski eksperymentów"
   ]
  },
  {
   "cell_type": "code",
   "execution_count": null,
   "metadata": {
    "id": "0OJ_vBQSR4FB"
   },
   "outputs": [],
   "source": []
  },
  {
   "cell_type": "markdown",
   "metadata": {
    "id": "hBtJ-x5TR5tU"
   },
   "source": [
    "..."
   ]
  },
  {
   "cell_type": "markdown",
   "metadata": {
    "id": "Rlj10_ASRH88"
   },
   "source": [
    "# Implementacja estymatora ilości klastrów zbioru danych"
   ]
  },
  {
   "cell_type": "code",
   "execution_count": null,
   "metadata": {
    "id": "EYMBsfFBROnp"
   },
   "outputs": [],
   "source": [
    "from sklearn.base import BaseEstimator, ClusterMixin\n",
    "from sklearn.cluster import KMeans\n",
    "from sklearn.metrics import silhouette_score, davies_bouldin_score\n",
    "import numpy as np\n",
    "import warnings\n",
    "\n",
    "class ClusterNumberEstimator(BaseEstimator, ClusterMixin):\n",
    "    \"\"\"\n",
    "    An unsupervised estimator to determine the optimal number of clusters\n",
    "    based on internal validation metrics (Silhouette score and Davies-Bouldin index).\n",
    "\n",
    "    This estimator iteratively fits KMeans for increasing k and stops when validation\n",
    "    metrics no longer improve. The final number of clusters is available as `n_clusters_`.\n",
    "    \"\"\"\n",
    "    def __init__(self, max_k=20, min_k=2, random_state=None, verbose=False):\n",
    "        self.max_k = max_k\n",
    "        self.min_k = min_k\n",
    "        self.random_state = random_state\n",
    "        self.verbose = verbose\n",
    "\n",
    "    def fit(self, X, y=None):\n",
    "        best_k = self.min_k\n",
    "        best_score = -1\n",
    "        best_dbi = np.inf\n",
    "        prev_score = -np.inf\n",
    "        prev_dbi = np.inf\n",
    "\n",
    "        self._scores = []\n",
    "        self._dbis = []\n",
    "\n",
    "        for k in range(self.min_k, self.max_k + 1):\n",
    "            kmeans = KMeans(n_clusters=k, random_state=self.random_state, n_init='auto')\n",
    "            labels = kmeans.fit_predict(X)\n",
    "\n",
    "            try:\n",
    "                silhouette = silhouette_score(X, labels)\n",
    "                dbi = davies_bouldin_score(X, labels)\n",
    "            except Exception as e:\n",
    "                warnings.warn(f\"Could not compute validation metrics for k={k}: {e}\")\n",
    "                continue\n",
    "\n",
    "            self._scores.append(silhouette)\n",
    "            self._dbis.append(dbi)\n",
    "\n",
    "            if self.verbose:\n",
    "                print(f\"k={k}, Silhouette={silhouette:.4f}, DBI={dbi:.4f}\")\n",
    "\n",
    "            if silhouette < prev_score or dbi > prev_dbi:\n",
    "                break\n",
    "\n",
    "            prev_score = silhouette\n",
    "            prev_dbi = dbi\n",
    "            best_k = k\n",
    "            best_labels = labels\n",
    "            best_centers = kmeans.cluster_centers_\n",
    "\n",
    "        self.n_clusters_ = best_k\n",
    "        self.labels_ = best_labels\n",
    "        self.cluster_centers_ = best_centers\n",
    "        return self\n",
    "\n",
    "    def predict(self, X):\n",
    "        if not hasattr(self, \"cluster_centers_\"):\n",
    "            raise RuntimeError(\"Estimator has not been fitted yet.\")\n",
    "        return KMeans(n_clusters=self.n_clusters_, init=self.cluster_centers_, n_init=1).fit_predict(X)\n",
    "\n",
    "    def get_validation_metrics(self):\n",
    "        return self._scores, self._dbis\n"
   ]
  },
  {
   "cell_type": "markdown",
   "metadata": {
    "id": "yfnX8g2tRO8J"
   },
   "source": []
  },
  {
   "cell_type": "markdown",
   "metadata": {
    "id": "ZW_w63PTRV0L"
   },
   "source": [
    "## Eksperymenty"
   ]
  },
  {
   "cell_type": "markdown",
   "metadata": {
    "id": "1GuKrNmORXOH"
   },
   "source": [
    "## Wyniki i wnioski eksperymentów"
   ]
  },
  {
   "cell_type": "markdown",
   "metadata": {
    "id": "FO2bwebvRbDm"
   },
   "source": [
    "# Podsumowanie\n",
    "..."
   ]
  }
 ],
 "metadata": {
  "colab": {
   "provenance": []
  },
  "kernelspec": {
   "display_name": ".venv",
   "language": "python",
   "name": "python3"
  },
  "language_info": {
   "name": "python",
   "version": "3.9.21"
  }
 },
 "nbformat": 4,
 "nbformat_minor": 0
}
